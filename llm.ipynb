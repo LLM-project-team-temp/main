{
 "cells": [
  {
   "cell_type": "code",
   "execution_count": 1,
   "metadata": {},
   "outputs": [],
   "source": [
    "%load_ext dotenv\n",
    "%dotenv"
   ]
  },
  {
   "cell_type": "code",
   "execution_count": 9,
   "metadata": {},
   "outputs": [
    {
     "name": "stdout",
     "output_type": "stream",
     "text": [
      "Oh, in Korea, it's Seoul!!\n"
     ]
    }
   ],
   "source": [
    "import warnings\n",
    "\n",
    "from langchain_core.messages import AIMessage, HumanMessage\n",
    "from langchain_core.output_parsers import StrOutputParser\n",
    "from langchain_core.prompts import ChatPromptTemplate, MessagesPlaceholder\n",
    "from langchain_upstage import ChatUpstage, UpstageLayoutAnalysisLoader\n",
    "\n",
    "from utils import load_context, rag\n",
    "\n",
    "warnings.filterwarnings(\"ignore\")\n",
    "\n",
    "\n",
    "# langchain, 1. llm define, 2. prompt define, 3. chain, 4. chain.invoke\n",
    "\n",
    "# 1. define your favorate llm, solar\n",
    "llm = ChatUpstage()\n",
    "\n",
    "# 2. define chat prompt\n",
    "prompt = ChatPromptTemplate.from_messages(\n",
    "    [\n",
    "        (   \"system\",\n",
    "            \"\"\"\n",
    "            You are a helpful assistant.\n",
    "            너는 이제 mbti 전문가야 히히..\n",
    "            아래에 줄 context를 참고해서 질문에 대답하렴!\n",
    "            Use the following pieces of retrieved context to answer the question considering the history of the conversation.\n",
    "            ---\n",
    "            CONTEXT:\n",
    "            {context}\n",
    "            \"\"\"\n",
    "        ),\n",
    "        MessagesPlaceholder(variable_name=\"history\"),\n",
    "        (\"human\", \"{input}\"),\n",
    "    ]\n",
    ")\n",
    "\n",
    "history = [\n",
    "    HumanMessage(\"Do you know what MBTI I am? I am ISTJ!\"),\n",
    "    AIMessage(\"Great! I love their schedules!\"),\n",
    "]\n",
    "latest_query = \"What about ENFP?\"\n",
    "context = load_context()\n",
    "retriever = rag(context)\n",
    "\n",
    "# 3. define chain\n",
    "chain = prompt | llm | StrOutputParser()\n",
    "\n",
    "while (True):\n",
    "    latest_query = input()\n",
    "    if latest_query=='':\n",
    "        break\n",
    "\n",
    "    # 4. invoke the chain\n",
    "    result_docs = retriever.invoke(latest_query)\n",
    "    response = chain.invoke({\"history\": history,\n",
    "                             \"context\": result_docs,\n",
    "                             \"input\": latest_query})\n",
    "    print(response, flush=True)\n",
    "\n",
    "    history.append(HumanMessage(latest_query))\n",
    "    history.append(AIMessage(response))\n"
   ]
  }
 ],
 "metadata": {
  "kernelspec": {
   "display_name": "upstage-llm",
   "language": "python",
   "name": "python3"
  },
  "language_info": {
   "codemirror_mode": {
    "name": "ipython",
    "version": 3
   },
   "file_extension": ".py",
   "mimetype": "text/x-python",
   "name": "python",
   "nbconvert_exporter": "python",
   "pygments_lexer": "ipython3",
   "version": "3.9.19"
  }
 },
 "nbformat": 4,
 "nbformat_minor": 2
}
