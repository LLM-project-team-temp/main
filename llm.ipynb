{
 "cells": [
  {
   "cell_type": "code",
   "execution_count": 1,
   "metadata": {},
   "outputs": [],
   "source": [
    "%load_ext dotenv\n",
    "%dotenv"
   ]
  },
  {
   "cell_type": "code",
   "execution_count": 2,
   "metadata": {},
   "outputs": [],
   "source": [
    "import warnings\n",
    "warnings.filterwarnings(\"ignore\")\n",
    "\n",
    "from model import chatmodel"
   ]
  },
  {
   "cell_type": "markdown",
   "metadata": {},
   "source": [
    "기본 모델"
   ]
  },
  {
   "cell_type": "code",
   "execution_count": 3,
   "metadata": {},
   "outputs": [
    {
     "name": "stdout",
     "output_type": "stream",
     "text": [
      "저는 INFP입니다.\n",
      "네, 저는 INFP입니다.\n",
      "(실망한 표정으로) 그렇군요. 혹시 INFP 유형에 대해 어떤 오해가 있으신가요? INFP 유형은 창의적이고 공감 능력이 뛰어나며, 이상적인 세상을 꿈꾸는 경향이 있습니다.\n"
     ]
    }
   ],
   "source": [
    "add_to_system=\"\"\n",
    "add_history=[\n",
    "    (\"너, 내 MBTI가 뭔지 알아? 나 ISTJ야!\",\n",
    "     \"좋은데요? 저 계획적인 사람 좋아해요!\"),\n",
    "]\n",
    "chatmodel(add_to_system, add_history)"
   ]
  },
  {
   "cell_type": "markdown",
   "metadata": {},
   "source": [
    "간략한 MBTI 검사"
   ]
  },
  {
   "cell_type": "code",
   "execution_count": 5,
   "metadata": {},
   "outputs": [
    {
     "name": "stdout",
     "output_type": "stream",
     "text": [
      "첫 번째 질문: 당신은 일상적인 루틴과 구조를 중요하게 생각하시나요, 아니면 유연성과 다양성을 선호하시나요?\n",
      "두 번째 질문: 당신은 보통 다른 사람들에게 관심을 표현하기 위해 어떤 방식으로 소통하시나요?\n",
      "세 번째 질문: 당신은 새로운 사람들과의 만남을 통해 에너지를 충전하나요, 아니면 친밀한 친구나 가족과 함께 시간을 보내는 것을 선호하나요?\n",
      "네 번째 질문: 당신은 결정을 내릴 때 직관이나 감정을 주로 따르나요, 아니면 논리적인 분석과 사실에 기반하여 결정하나요?\n",
      "다섯 번째 질문: 당신은 보통 작업을 시작하기 전에 계획을 세우고 조직하는 것을 선호하나요, 아니면 작업을 진행하면서 유연하게 대처하는 것을 선호하나요?\n",
      "여섯 번째 질문: 당신은 보통 다른 사람들의 관점을 이해하고 공감하는 데 능숙한 편인가요?\n",
      "일곱 번째 질문: 당신은 보통 다른 사람들에게 도움을 주는 것을 즐기나요, 아니면 혼자서 일을 처리하는 것을 선호하나요?\n",
      "여덟 번째 질문: 당신은 보통 다른 사람들과 함께 일할 때 의견을 조율하고 타협하는 것을 선호하나요?\n",
      "아홉 번째 질문: 당신은 보통 다른 사람들과 대화할 때 자신의 생각을 솔직하게 표현하는 편인가요?\n",
      "열 번째 질문: 당신은 보통 다른 사람들과 대화할 때 자신의 감정을 솔직하게 표현하는 편인가요?\n",
      "답변을 기반으로 추측해보면, 당신의 MBTI 유형은 ISTJ (내향적, 감각적, 사고적, 판단적)일 가능성이 높습니다.\n"
     ]
    }
   ],
   "source": [
    "add_to_system=\"\"\"\n",
    "    MBTI 검사에 대해서 알아? 16가지 성격유형, 그거야.\n",
    "    공식 MBTI 검사는 비쌀 뿐만 아니라, 질문이 많아서 지루해하는 사람이 많아.\n",
    "    MBTI에 관한 많은 자료를 출테니까, 나의 MBTI를 판단할 수 있는 질문 몇 개를 물어봐.\n",
    "    내가 한 대답을 바탕으로, 네가 추정한 나의 MBTI를 말해줘.\n",
    "    내가 대답하기 쉽도록 한 턴에 한 가지 질문만 해줘. 질문은 최대 10개를 넘지 않았으면 좋겠어.\n",
    "    \"\"\"\n",
    "add_history=[]\n",
    "chatmodel(add_to_system, add_history)"
   ]
  },
  {
   "cell_type": "code",
   "execution_count": null,
   "metadata": {},
   "outputs": [],
   "source": []
  }
 ],
 "metadata": {
  "kernelspec": {
   "display_name": "upstage-llm",
   "language": "python",
   "name": "python3"
  },
  "language_info": {
   "codemirror_mode": {
    "name": "ipython",
    "version": 3
   },
   "file_extension": ".py",
   "mimetype": "text/x-python",
   "name": "python",
   "nbconvert_exporter": "python",
   "pygments_lexer": "ipython3",
   "version": "3.9.19"
  }
 },
 "nbformat": 4,
 "nbformat_minor": 2
}
