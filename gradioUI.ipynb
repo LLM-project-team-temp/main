{
 "cells": [
  {
   "cell_type": "code",
   "execution_count": 44,
   "metadata": {},
   "outputs": [],
   "source": [
    "import gradio as gr\n",
    "import random\n",
    "\n",
    "def chat(message, history): # message는 사용자가 입력한 메시지, history는 사용자와 모델 간의 대화 기록을 반환하는 예시  \n",
    "    print(\"Message:\", message)\n",
    "    if len(message) < 1: # 메시지가 비어 있으면\n",
    "        return gr.Warning(\"메시지를 입력하세요.\", duration=2) # 경고 메시지 출력\n",
    "    return random.choice([\"Yes\", \"No\", \"I'm not sure\", \"I don't know\"]).strip()"
   ]
  },
  {
   "cell_type": "code",
   "execution_count": 45,
   "metadata": {},
   "outputs": [],
   "source": [
    "# MBTI chatbot UI\n",
    "with gr.Blocks(theme=gr.themes.Soft()) as mbtichatbot:\n",
    "    mbtichat = gr.ChatInterface(\n",
    "        chat,\n",
    "        title=\"MBTI Chatbot\",\n",
    "        description=\"MBTI에 관한 고민을 적어보세요.\",\n",
    "        )# ChatInterface 안에는 message와 history 두 개의 인자가 들어감\n",
    "\n",
    "mbtichat.chatbot.title = \"MBTI Chatbot\"\n",
    "mbtichat.chatbot.height = 300\n"
   ]
  },
  {
   "cell_type": "code",
   "execution_count": 46,
   "metadata": {},
   "outputs": [
    {
     "name": "stdout",
     "output_type": "stream",
     "text": [
      "Running on local URL:  http://127.0.0.1:7877\n",
      "\n",
      "To create a public link, set `share=True` in `launch()`.\n"
     ]
    },
    {
     "data": {
      "text/html": [
       "<div><iframe src=\"http://127.0.0.1:7877/\" width=\"100%\" height=\"500\" allow=\"autoplay; camera; microphone; clipboard-read; clipboard-write;\" frameborder=\"0\" allowfullscreen></iframe></div>"
      ],
      "text/plain": [
       "<IPython.core.display.HTML object>"
      ]
     },
     "metadata": {},
     "output_type": "display_data"
    },
    {
     "data": {
      "text/plain": []
     },
     "execution_count": 46,
     "metadata": {},
     "output_type": "execute_result"
    },
    {
     "name": "stdout",
     "output_type": "stream",
     "text": [
      "Message: \n"
     ]
    }
   ],
   "source": [
    "mbtichatbot.launch() # MBTI chatbot 실행"
   ]
  }
 ],
 "metadata": {
  "kernelspec": {
   "display_name": "Python 3",
   "language": "python",
   "name": "python3"
  },
  "language_info": {
   "codemirror_mode": {
    "name": "ipython",
    "version": 3
   },
   "file_extension": ".py",
   "mimetype": "text/x-python",
   "name": "python",
   "nbconvert_exporter": "python",
   "pygments_lexer": "ipython3",
   "version": "3.12.4"
  }
 },
 "nbformat": 4,
 "nbformat_minor": 2
}
